{
 "cells": [
  {
   "cell_type": "markdown",
   "metadata": {},
   "source": [
    "### Collecting the dataset using webcam"
   ]
  },
  {
   "cell_type": "code",
   "execution_count": null,
   "metadata": {},
   "outputs": [
    {
     "name": "stdout",
     "output_type": "stream",
     "text": [
      "📷 Recording Yes - Sequence 60/60\n",
      "✅ Data collection complete! All keypoints saved.\n"
     ]
    }
   ],
   "source": [
    "import cv2\n",
    "import numpy as np\n",
    "import os\n",
    "import mediapipe as mp\n",
    "\n",
    "# Define dataset path\n",
    "DATA_PATH = \"SignLanguageDataset\"\n",
    "actions = np.array([\"Hello\", \"Yes\", \"No\", \"Please\", \"ThankYou\"])  # Modify based on signs you need\n",
    "sequence_length = 30  # Number of frames per sequence\n",
    "num_sequences = 60  # Number of sequences per action\n",
    "\n",
    "# Initialize MediaPipe\n",
    "mp_holistic = mp.solutions.holistic\n",
    "mp_drawing = mp.solutions.drawing_utils\n",
    "\n",
    "# Create directories\n",
    "for action in actions:\n",
    "    os.makedirs(os.path.join(DATA_PATH, action), exist_ok=True)\n",
    "\n",
    "# Function to extract keypoints from the frame\n",
    "def extract_landmarks(image, holistic):\n",
    "    \"\"\"Extract hand and pose landmarks using MediaPipe\"\"\"\n",
    "    img_rgb = cv2.cvtColor(image, cv2.COLOR_BGR2RGB)\n",
    "    results = holistic.process(img_rgb)\n",
    "\n",
    "    # Extract keypoints\n",
    "    pose = np.array([[res.x, res.y, res.z] for res in results.pose_landmarks.landmark]) if results.pose_landmarks else np.zeros((33, 3))\n",
    "    left_hand = np.array([[res.x, res.y, res.z] for res in results.left_hand_landmarks.landmark]) if results.left_hand_landmarks else np.zeros((21, 3))\n",
    "    right_hand = np.array([[res.x, res.y, res.z] for res in results.right_hand_landmarks.landmark]) if results.right_hand_landmarks else np.zeros((21, 3))\n",
    "\n",
    "    return np.concatenate([pose.flatten(), left_hand.flatten(), right_hand.flatten()])\n",
    "\n",
    "# Open webcam\n",
    "cap = cv2.VideoCapture(0)\n",
    "\n",
    "with mp_holistic.Holistic(min_detection_confidence=0.5, min_tracking_confidence=0.5) as holistic:\n",
    "    for action in actions:\n",
    "        for sequence in range(num_sequences):\n",
    "            print(f\"📷 Recording {action} - Sequence {sequence + 1}/{num_sequences}\")\n",
    "\n",
    "            # Wait before starting recording\n",
    "            for frame in range(5):\n",
    "                ret, frame = cap.read()\n",
    "                cv2.putText(frame, f\"GET READY: {action}\", (50, 50), cv2.FONT_HERSHEY_SIMPLEX, 1, (0, 255, 0), 2)\n",
    "                cv2.imshow(\"Webcam\", frame)\n",
    "                cv2.waitKey(1000)\n",
    "\n",
    "            # Collect sequence data\n",
    "            for frame_idx in range(sequence_length):\n",
    "                ret, frame = cap.read()\n",
    "\n",
    "                # Extract keypoints\n",
    "                keypoints = extract_landmarks(frame, holistic)\n",
    "\n",
    "                # Save keypoints\n",
    "                keypoints_path = os.path.join(DATA_PATH, action, f\"{sequence}_{frame_idx}.npy\")\n",
    "                np.save(keypoints_path, keypoints)\n",
    "\n",
    "                # Show frame with landmarks\n",
    "                mp_drawing.draw_landmarks(frame, holistic.process(cv2.cvtColor(frame, cv2.COLOR_BGR2RGB)).pose_landmarks, mp_holistic.POSE_CONNECTIONS)\n",
    "                cv2.putText(frame, f\"Collecting {action} | sequence {sequence} | Frame {frame_idx + 1}\", (50, 50), cv2.FONT_HERSHEY_SIMPLEX, 1, (0, 255, 0), 2)\n",
    "                cv2.imshow(\"Webcam\", frame)\n",
    "\n",
    "                if cv2.waitKey(1) & 0xFF == ord('q'):\n",
    "                    break\n",
    "\n",
    "cap.release()\n",
    "cv2.destroyAllWindows()\n",
    "\n",
    "print(\"✅ Data collection complete! All keypoints saved.\")\n"
   ]
  },
  {
   "cell_type": "code",
   "execution_count": 8,
   "metadata": {},
   "outputs": [],
   "source": [
    "cap.release()\n",
    "cv2.destroyAllWindows()"
   ]
  },
  {
   "cell_type": "markdown",
   "metadata": {},
   "source": [
    "### Pre-processing the collected data"
   ]
  },
  {
   "cell_type": "code",
   "execution_count": 13,
   "metadata": {},
   "outputs": [
    {
     "name": "stdout",
     "output_type": "stream",
     "text": [
      "Data preprocessing complete!\n"
     ]
    }
   ],
   "source": [
    "import numpy as np\n",
    "import os\n",
    "\n",
    "# Define dataset path\n",
    "DATA_PATH = \"SignLanguageDataset\"\n",
    "\n",
    "# Parameters\n",
    "num_sequences = 60  # Number of sequences per action\n",
    "sequence_length = 30  # Number of frames per sequence\n",
    "actions = np.array([\"Hello\", \"Yes\", \"No\", \"Please\", \"ThankYou\"])\n",
    "\n",
    "# Load data\n",
    "X, Y = [], []\n",
    "for action_idx, action in enumerate(actions):\n",
    "    for sequence in range(num_sequences):  # Assume 100 sequences per action\n",
    "        sequence_data = []\n",
    "        for frame in range(sequence_length):\n",
    "            keypoints_path = os.path.join(DATA_PATH, action, f\"{sequence}_{frame}.npy\")\n",
    "            keypoints = np.load(keypoints_path)  # Load keypoint data\n",
    "            sequence_data.append(keypoints)\n",
    "        X.append(sequence_data)\n",
    "        Y.append(action_idx)\n",
    "\n",
    "# Convert to NumPy arrays\n",
    "X = np.array(X)\n",
    "Y = np.array(Y)\n",
    "\n",
    "# Save processed data\n",
    "np.save(\"X_sequences.npy\", X)\n",
    "np.save(\"Y_labels.npy\", Y)\n",
    "\n",
    "print(\"Data preprocessing complete!\")\n"
   ]
  },
  {
   "cell_type": "markdown",
   "metadata": {},
   "source": [
    "### Create the model and training"
   ]
  },
  {
   "cell_type": "code",
   "execution_count": 10,
   "metadata": {},
   "outputs": [
    {
     "name": "stdout",
     "output_type": "stream",
     "text": [
      "Epoch 1/50\n",
      "8/8 [==============================] - 4s 108ms/step - loss: 1.4800 - accuracy: 0.3667 - val_loss: 1.1151 - val_accuracy: 0.5500\n",
      "Epoch 2/50\n",
      "8/8 [==============================] - 0s 49ms/step - loss: 0.9199 - accuracy: 0.5458 - val_loss: 0.6980 - val_accuracy: 0.7500\n",
      "Epoch 3/50\n",
      "8/8 [==============================] - 0s 47ms/step - loss: 0.7896 - accuracy: 0.6583 - val_loss: 0.7394 - val_accuracy: 0.7167\n",
      "Epoch 4/50\n",
      "8/8 [==============================] - 0s 43ms/step - loss: 0.8375 - accuracy: 0.6458 - val_loss: 0.7637 - val_accuracy: 0.6833\n",
      "Epoch 5/50\n",
      "8/8 [==============================] - 0s 47ms/step - loss: 0.6717 - accuracy: 0.7083 - val_loss: 0.5208 - val_accuracy: 0.7000\n",
      "Epoch 6/50\n",
      "8/8 [==============================] - 0s 51ms/step - loss: 0.5877 - accuracy: 0.6833 - val_loss: 0.4211 - val_accuracy: 0.7667\n",
      "Epoch 7/50\n",
      "8/8 [==============================] - 0s 46ms/step - loss: 0.4529 - accuracy: 0.7417 - val_loss: 0.5747 - val_accuracy: 0.7167\n",
      "Epoch 8/50\n",
      "8/8 [==============================] - 0s 50ms/step - loss: 0.3643 - accuracy: 0.7958 - val_loss: 2.6519 - val_accuracy: 0.7000\n",
      "Epoch 9/50\n",
      "8/8 [==============================] - 0s 43ms/step - loss: 1.1181 - accuracy: 0.6042 - val_loss: 1.2623 - val_accuracy: 0.4500\n",
      "Epoch 10/50\n",
      "8/8 [==============================] - 0s 44ms/step - loss: 0.9825 - accuracy: 0.4833 - val_loss: 0.5973 - val_accuracy: 0.7000\n",
      "Epoch 11/50\n",
      "8/8 [==============================] - 0s 45ms/step - loss: 1.1579 - accuracy: 0.7000 - val_loss: 0.4433 - val_accuracy: 0.7833\n",
      "Epoch 12/50\n",
      "8/8 [==============================] - 0s 46ms/step - loss: 0.6878 - accuracy: 0.6625 - val_loss: 0.6262 - val_accuracy: 0.6000\n",
      "Epoch 13/50\n",
      "8/8 [==============================] - 0s 44ms/step - loss: 0.5903 - accuracy: 0.7667 - val_loss: 0.5445 - val_accuracy: 0.7667\n",
      "Epoch 14/50\n",
      "8/8 [==============================] - 0s 45ms/step - loss: 0.4663 - accuracy: 0.8167 - val_loss: 0.6418 - val_accuracy: 0.7833\n",
      "Epoch 15/50\n",
      "8/8 [==============================] - 0s 45ms/step - loss: 1.2116 - accuracy: 0.5583 - val_loss: 1.1023 - val_accuracy: 0.4833\n",
      "Epoch 16/50\n",
      "8/8 [==============================] - 0s 45ms/step - loss: 0.9112 - accuracy: 0.5708 - val_loss: 0.8429 - val_accuracy: 0.5500\n",
      "Epoch 17/50\n",
      "8/8 [==============================] - 0s 46ms/step - loss: 0.7655 - accuracy: 0.5917 - val_loss: 0.6719 - val_accuracy: 0.6667\n",
      "Epoch 18/50\n",
      "8/8 [==============================] - 0s 45ms/step - loss: 0.6730 - accuracy: 0.7208 - val_loss: 0.5716 - val_accuracy: 0.7667\n",
      "Epoch 19/50\n",
      "8/8 [==============================] - 0s 49ms/step - loss: 0.5540 - accuracy: 0.8250 - val_loss: 0.5006 - val_accuracy: 0.8000\n",
      "Epoch 20/50\n",
      "8/8 [==============================] - 0s 49ms/step - loss: 0.5665 - accuracy: 0.7833 - val_loss: 0.4616 - val_accuracy: 0.7833\n",
      "Epoch 21/50\n",
      "8/8 [==============================] - 0s 45ms/step - loss: 0.4157 - accuracy: 0.8167 - val_loss: 0.4932 - val_accuracy: 0.7333\n",
      "Epoch 22/50\n",
      "8/8 [==============================] - 0s 52ms/step - loss: 0.4012 - accuracy: 0.8042 - val_loss: 0.4101 - val_accuracy: 0.7667\n",
      "Epoch 23/50\n",
      "8/8 [==============================] - 0s 44ms/step - loss: 0.3139 - accuracy: 0.8458 - val_loss: 0.9755 - val_accuracy: 0.8167\n",
      "Epoch 24/50\n",
      "8/8 [==============================] - 0s 44ms/step - loss: 0.3748 - accuracy: 0.7583 - val_loss: 0.3798 - val_accuracy: 0.9000\n",
      "Epoch 25/50\n",
      "8/8 [==============================] - 0s 44ms/step - loss: 0.3754 - accuracy: 0.8208 - val_loss: 0.3224 - val_accuracy: 0.8667\n",
      "Epoch 26/50\n",
      "8/8 [==============================] - 0s 45ms/step - loss: 0.2521 - accuracy: 0.8833 - val_loss: 1.0248 - val_accuracy: 0.7833\n",
      "Epoch 27/50\n",
      "8/8 [==============================] - 0s 48ms/step - loss: 0.4790 - accuracy: 0.8125 - val_loss: 0.4943 - val_accuracy: 0.7167\n",
      "Epoch 28/50\n",
      "8/8 [==============================] - 0s 44ms/step - loss: 0.4388 - accuracy: 0.8000 - val_loss: 0.5086 - val_accuracy: 0.7667\n",
      "Epoch 29/50\n",
      "8/8 [==============================] - 0s 44ms/step - loss: 0.3624 - accuracy: 0.8292 - val_loss: 0.4054 - val_accuracy: 0.7667\n",
      "Epoch 30/50\n",
      "8/8 [==============================] - 0s 46ms/step - loss: 0.2963 - accuracy: 0.8375 - val_loss: 0.3107 - val_accuracy: 0.8333\n",
      "Epoch 31/50\n",
      "8/8 [==============================] - 0s 50ms/step - loss: 0.2685 - accuracy: 0.8375 - val_loss: 0.3299 - val_accuracy: 0.8333\n",
      "Epoch 32/50\n",
      "8/8 [==============================] - 0s 44ms/step - loss: 0.2355 - accuracy: 0.8625 - val_loss: 0.3180 - val_accuracy: 0.9667\n",
      "Epoch 33/50\n",
      "8/8 [==============================] - 0s 44ms/step - loss: 0.2186 - accuracy: 0.8792 - val_loss: 0.4606 - val_accuracy: 0.8667\n",
      "Epoch 34/50\n",
      "8/8 [==============================] - 0s 45ms/step - loss: 0.2493 - accuracy: 0.8917 - val_loss: 0.5838 - val_accuracy: 0.8500\n",
      "Epoch 35/50\n",
      "8/8 [==============================] - 0s 44ms/step - loss: 0.2688 - accuracy: 0.8458 - val_loss: 0.8850 - val_accuracy: 0.8167\n",
      "Epoch 36/50\n",
      "8/8 [==============================] - 0s 44ms/step - loss: 0.2244 - accuracy: 0.9000 - val_loss: 0.5833 - val_accuracy: 0.8667\n",
      "Epoch 37/50\n",
      "8/8 [==============================] - 0s 44ms/step - loss: 0.2254 - accuracy: 0.8750 - val_loss: 0.4065 - val_accuracy: 0.8833\n",
      "Epoch 38/50\n",
      "8/8 [==============================] - 0s 44ms/step - loss: 0.1828 - accuracy: 0.9292 - val_loss: 0.3476 - val_accuracy: 0.9667\n",
      "Epoch 39/50\n",
      "8/8 [==============================] - 0s 52ms/step - loss: 0.2031 - accuracy: 0.9250 - val_loss: 0.3686 - val_accuracy: 0.9000\n",
      "Epoch 40/50\n",
      "8/8 [==============================] - 0s 44ms/step - loss: 0.1954 - accuracy: 0.9500 - val_loss: 0.1927 - val_accuracy: 0.9500\n",
      "Epoch 41/50\n",
      "8/8 [==============================] - 0s 45ms/step - loss: 0.1454 - accuracy: 0.9375 - val_loss: 0.3079 - val_accuracy: 0.9667\n",
      "Epoch 42/50\n",
      "8/8 [==============================] - 0s 44ms/step - loss: 0.3315 - accuracy: 0.8958 - val_loss: 0.7901 - val_accuracy: 0.8167\n",
      "Epoch 43/50\n",
      "8/8 [==============================] - 0s 45ms/step - loss: 0.3743 - accuracy: 0.8458 - val_loss: 0.3544 - val_accuracy: 0.8167\n",
      "Epoch 44/50\n",
      "8/8 [==============================] - 0s 45ms/step - loss: 0.2677 - accuracy: 0.9083 - val_loss: 0.3897 - val_accuracy: 0.9167\n",
      "Epoch 45/50\n",
      "8/8 [==============================] - 0s 45ms/step - loss: 0.2177 - accuracy: 0.9417 - val_loss: 0.2787 - val_accuracy: 0.9333\n",
      "Epoch 46/50\n",
      "8/8 [==============================] - 0s 44ms/step - loss: 0.1600 - accuracy: 0.9542 - val_loss: 0.2012 - val_accuracy: 0.9333\n",
      "Epoch 47/50\n",
      "8/8 [==============================] - 0s 44ms/step - loss: 0.2548 - accuracy: 0.8875 - val_loss: 0.8210 - val_accuracy: 0.9333\n",
      "Epoch 48/50\n",
      "8/8 [==============================] - 0s 45ms/step - loss: 0.2085 - accuracy: 0.9417 - val_loss: 0.3440 - val_accuracy: 0.9333\n",
      "Epoch 49/50\n",
      "8/8 [==============================] - 0s 46ms/step - loss: 0.1581 - accuracy: 0.9542 - val_loss: 0.2830 - val_accuracy: 0.9667\n",
      "Epoch 50/50\n",
      "8/8 [==============================] - 0s 43ms/step - loss: 0.1332 - accuracy: 0.9625 - val_loss: 0.3503 - val_accuracy: 0.9667\n",
      "LSTM model training complete!\n"
     ]
    }
   ],
   "source": [
    "import tensorflow as tf\n",
    "from tensorflow.keras.models import Sequential\n",
    "from tensorflow.keras.layers import LSTM, Dense, Dropout\n",
    "from sklearn.model_selection import train_test_split\n",
    "import numpy as np\n",
    "\n",
    "# Load processed data\n",
    "X = np.load(\"X_sequences.npy\")\n",
    "Y = np.load(\"Y_labels.npy\")\n",
    "\n",
    "# One-hot encode labels\n",
    "Y = tf.keras.utils.to_categorical(Y, num_classes=len(set(Y)))\n",
    "\n",
    "# Split dataset\n",
    "X_train, X_val, Y_train, Y_val = train_test_split(X, Y, test_size=0.2, random_state=42)\n",
    "\n",
    "# Define LSTM model\n",
    "model = Sequential([\n",
    "    LSTM(64, return_sequences=True, activation='relu', input_shape=(X.shape[1], X.shape[2])),\n",
    "    Dropout(0.2),\n",
    "    LSTM(128, return_sequences=True, activation='relu'),\n",
    "    Dropout(0.3),\n",
    "    LSTM(64, activation='relu'),\n",
    "    Dense(64, activation='relu'),\n",
    "    Dense(5, activation='softmax')  # Output layer (one neuron per gesture)\n",
    "])\n",
    "\n",
    "# Compile model\n",
    "model.compile(optimizer='adam', loss='categorical_crossentropy', metrics=['accuracy'])\n",
    "\n",
    "# Train model\n",
    "model.fit(X_train, Y_train, epochs=50, batch_size=32, validation_data=(X_val, Y_val))\n",
    "\n",
    "# Save model\n",
    "model.save(\"lstm_sign_language_model.h5\")\n",
    "print(\"LSTM model training complete!\")\n"
   ]
  },
  {
   "cell_type": "markdown",
   "metadata": {},
   "source": [
    "### Evaluation of the model"
   ]
  },
  {
   "cell_type": "code",
   "execution_count": 11,
   "metadata": {},
   "outputs": [
    {
     "name": "stdout",
     "output_type": "stream",
     "text": [
      "2/2 [==============================] - 0s 25ms/step - loss: 0.3503 - accuracy: 0.9667\n"
     ]
    },
    {
     "data": {
      "text/plain": [
       "[0.3502681851387024, 0.9666666388511658]"
      ]
     },
     "execution_count": 11,
     "metadata": {},
     "output_type": "execute_result"
    }
   ],
   "source": [
    "model.evaluate(X_val, Y_val)"
   ]
  },
  {
   "cell_type": "code",
   "execution_count": 14,
   "metadata": {},
   "outputs": [
    {
     "name": "stdout",
     "output_type": "stream",
     "text": [
      "1/1 [==============================] - 0s 34ms/step\n",
      "Please\n",
      "Please\n"
     ]
    }
   ],
   "source": [
    "y = model.predict(X_val[:1])\n",
    "print(actions[np.argmax(y)])\n",
    "print(actions[np.argmax(Y_val[0])])\n"
   ]
  },
  {
   "cell_type": "markdown",
   "metadata": {},
   "source": [
    "### Check the real-time prediction"
   ]
  },
  {
   "cell_type": "code",
   "execution_count": null,
   "metadata": {},
   "outputs": [],
   "source": [
    "import cv2\n",
    "import mediapipe as mp\n",
    "import numpy as np\n",
    "from tensorflow.keras.models import load_model\n",
    "from collections import deque\n",
    "\n",
    "# Load trained LSTM model\n",
    "model = load_model(\"lstm_sign_language_model.h5\")\n",
    "\n",
    "# Define gestures\n",
    "gestures = [\"Hello\", \"Yes\", \"No\", \"Please\", \"ThankYou\"]\n",
    "\n",
    "# Initialize MediaPipe\n",
    "mp_holistic = mp.solutions.holistic\n",
    "cap = cv2.VideoCapture(0)\n",
    "\n",
    "# Store the last 30 frames\n",
    "sequence = deque(maxlen=30)\n",
    "\n",
    "def extract_landmarks(image):\n",
    "    \"\"\"Extract pose and hand keypoints from an image\"\"\"\n",
    "    with mp_holistic.Holistic(static_image_mode=False, min_detection_confidence=0.5) as holistic:\n",
    "        img_rgb = cv2.cvtColor(image, cv2.COLOR_BGR2RGB)\n",
    "        results = holistic.process(img_rgb)\n",
    "\n",
    "        # Extract keypoints\n",
    "        pose = np.array([[res.x, res.y, res.z] for res in results.pose_landmarks.landmark]) if results.pose_landmarks else np.zeros((33, 3))\n",
    "        left_hand = np.array([[res.x, res.y, res.z] for res in results.left_hand_landmarks.landmark]) if results.left_hand_landmarks else np.zeros((21, 3))\n",
    "        right_hand = np.array([[res.x, res.y, res.z] for res in results.right_hand_landmarks.landmark]) if results.right_hand_landmarks else np.zeros((21, 3))\n",
    "\n",
    "        return np.concatenate([pose.flatten(), left_hand.flatten(), right_hand.flatten()])\n",
    "\n",
    "while cap.isOpened():\n",
    "    success, frame = cap.read()\n",
    "    if not success:\n",
    "        break\n",
    "\n",
    "    # Extract keypoints\n",
    "    keypoints = extract_landmarks(frame)\n",
    "    sequence.append(keypoints)\n",
    "\n",
    "    if len(sequence) == 30:  # Make prediction only if we have 30 frames\n",
    "        input_sequence = np.expand_dims(np.array(sequence), axis=0)  # Reshape for model input\n",
    "        prediction = model.predict(input_sequence)\n",
    "        predicted_label = np.argmax(prediction)\n",
    "\n",
    "        # Display prediction\n",
    "        cv2.putText(frame, gestures[predicted_label], (50, 50), cv2.FONT_HERSHEY_SIMPLEX, 1, (0, 0, 255), 2, cv2.LINE_AA)\n",
    "\n",
    "    cv2.imshow(\"Sign Language Recognition\", frame)\n",
    "\n",
    "    if cv2.waitKey(1) & 0xFF == ord('q'):\n",
    "        break\n",
    "\n",
    "cap.release()\n",
    "cv2.destroyAllWindows()\n"
   ]
  },
  {
   "cell_type": "markdown",
   "metadata": {},
   "source": [
    "### creating the tensorflow.js file from the model for web application"
   ]
  },
  {
   "cell_type": "code",
   "execution_count": null,
   "metadata": {},
   "outputs": [],
   "source": [
    "import tensorflow as tf\n",
    "import tensorflowjs as tfjs\n",
    "\n",
    "# Load trained model\n",
    "model = tf.keras.models.load_model(\"lstm_sign_language_model.h5\")\n",
    "\n",
    "# Convert and save the model for TensorFlow.js\n",
    "tfjs.converters.save_keras_model(model, \"tfjs_model\")\n",
    "\n",
    "print(\"✅ Model converted to TensorFlow.js format!\")\n"
   ]
  }
 ],
 "metadata": {
  "kernelspec": {
   "display_name": "Python 3",
   "language": "python",
   "name": "python3"
  },
  "language_info": {
   "codemirror_mode": {
    "name": "ipython",
    "version": 3
   },
   "file_extension": ".py",
   "mimetype": "text/x-python",
   "name": "python",
   "nbconvert_exporter": "python",
   "pygments_lexer": "ipython3",
   "version": "3.10.11"
  }
 },
 "nbformat": 4,
 "nbformat_minor": 2
}
